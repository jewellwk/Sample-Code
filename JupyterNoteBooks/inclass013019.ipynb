{
 "cells": [
  {
   "cell_type": "markdown",
   "metadata": {},
   "source": [
    "# CSC477 \n",
    "# In-class activity -- 01.30.19\n",
    "\n",
    "### Submit via github no later than 5pm 01.31.19.  Provide your answer to each question in the cell immediately following the question.  "
   ]
  },
  {
   "cell_type": "markdown",
   "metadata": {},
   "source": [
    "## Your name"
   ]
  },
  {
   "cell_type": "code",
   "execution_count": null,
   "metadata": {},
   "outputs": [],
   "source": [
    "# Jewell Wright"
   ]
  },
  {
   "cell_type": "markdown",
   "metadata": {},
   "source": [
    "### Exercise 1\n",
    "Create a 1D array named ``nums`` with 30 randomly generated integers in the range 1-100 (inclusive) and output it. "
   ]
  },
  {
   "cell_type": "code",
   "execution_count": 3,
   "metadata": {},
   "outputs": [
    {
     "data": {
      "text/plain": [
       "array([64, 99, 81, 52,  9, 74, 35, 24, 81, 91, 60, 24, 50, 68, 83, 15, 75,\n",
       "       98, 55, 47, 13, 22, 22, 64, 93, 24, 59, 93, 27, 28])"
      ]
     },
     "execution_count": 3,
     "metadata": {},
     "output_type": "execute_result"
    }
   ],
   "source": [
    "import random\n",
    "import numpy as np\n",
    "nums = np.array([random.randint(1,101) for i in range(30)])\n",
    "nums"
   ]
  },
  {
   "cell_type": "markdown",
   "metadata": {},
   "source": [
    "Output the first 5 values of ``nums``, and then the last 5 values."
   ]
  },
  {
   "cell_type": "code",
   "execution_count": 24,
   "metadata": {},
   "outputs": [
    {
     "name": "stdout",
     "output_type": "stream",
     "text": [
      "[64 99 81 52  9] \n",
      " [24 59 93 27 28]\n"
     ]
    }
   ],
   "source": [
    "print(nums[:5], \"\\n\",nums[-5:])"
   ]
  },
  {
   "cell_type": "markdown",
   "metadata": {},
   "source": [
    "Compute the $log_2$ of the values in ``nums`` and output them (use the UFunc ``log2``, not a loop)."
   ]
  },
  {
   "cell_type": "code",
   "execution_count": 9,
   "metadata": {},
   "outputs": [
    {
     "data": {
      "text/plain": [
       "array([6.        , 6.62935662, 6.33985   , 5.70043972, 3.169925  ,\n",
       "       6.20945337, 5.12928302, 4.5849625 , 6.33985   , 6.50779464,\n",
       "       5.9068906 , 4.5849625 , 5.64385619, 6.08746284, 6.37503943,\n",
       "       3.9068906 , 6.22881869, 6.61470984, 5.78135971, 5.55458885,\n",
       "       3.70043972, 4.45943162, 4.45943162, 6.        , 6.53915881,\n",
       "       4.5849625 , 5.88264305, 6.53915881, 4.7548875 , 4.80735492])"
      ]
     },
     "execution_count": 9,
     "metadata": {},
     "output_type": "execute_result"
    }
   ],
   "source": [
    "np.log2(nums)"
   ]
  },
  {
   "cell_type": "markdown",
   "metadata": {},
   "source": [
    "Compute and output the following statistics about ``nums``: minimum, maximum, median, mean, sum, standard deviation, and variance.  "
   ]
  },
  {
   "cell_type": "code",
   "execution_count": 20,
   "metadata": {},
   "outputs": [
    {
     "name": "stdout",
     "output_type": "stream",
     "text": [
      "Maximum =  99 \n",
      " Minimum =  9 \n",
      " Median =  57.0 \n",
      " Mean =  54.333333333333336 \n",
      " Sum =  1630 \n",
      " Std Dev =  28.15236323216144 \n",
      " Variance =  792.5555555555553\n"
     ]
    }
   ],
   "source": [
    "print(\"Maximum = \" ,np.max(nums),\"\\n\",\n",
    "\"Minimum = \",np.min(nums),\"\\n\",\n",
    "\"Median = \" ,np.median(nums),\"\\n\",\n",
    "\"Mean = \", np.mean(nums),\"\\n\",\n",
    "\"Sum = \", np.sum(nums),\"\\n\",\n",
    "\"Std Dev = \", np.std(nums),\"\\n\",\n",
    "\"Variance = \", np.var(nums))"
   ]
  },
  {
   "cell_type": "markdown",
   "metadata": {},
   "source": [
    "Using a Boolean mask, output all the values in ``nums`` that are < 50 (Do not use a loop)."
   ]
  },
  {
   "cell_type": "code",
   "execution_count": 32,
   "metadata": {},
   "outputs": [
    {
     "data": {
      "text/plain": [
       "array([ 9, 35, 24, 24, 15, 47, 13, 22, 22, 24, 27, 28])"
      ]
     },
     "execution_count": 32,
     "metadata": {},
     "output_type": "execute_result"
    }
   ],
   "source": [
    "nums[nums < 50]"
   ]
  },
  {
   "cell_type": "markdown",
   "metadata": {},
   "source": [
    "Using a Boolean mask, output all the values in ``nums`` that are in the range 20-60 (inclusive).  "
   ]
  },
  {
   "cell_type": "code",
   "execution_count": 33,
   "metadata": {},
   "outputs": [
    {
     "data": {
      "text/plain": [
       "array([52, 35, 24, 24, 50, 55, 47, 22, 22, 24, 59, 27, 28])"
      ]
     },
     "execution_count": 33,
     "metadata": {},
     "output_type": "execute_result"
    }
   ],
   "source": [
    "nums[(nums > 20) & (nums < 60)]"
   ]
  },
  {
   "cell_type": "markdown",
   "metadata": {},
   "source": [
    "## Exercise 2 \n",
    "Create a 2D array of dimension 7x5 named ``reals`` that's initialized to random floating point numbers in the range 0.0-10.0 and output it.  "
   ]
  },
  {
   "cell_type": "code",
   "execution_count": 38,
   "metadata": {},
   "outputs": [
    {
     "data": {
      "text/plain": [
       "array([[1.47829478, 5.14727424, 0.18671385, 2.07335777, 1.95971051],\n",
       "       [1.33419374, 4.0632702 , 9.5884517 , 5.13819764, 2.36153945],\n",
       "       [2.21347023, 8.74836593, 4.33886771, 4.24848749, 6.06894838],\n",
       "       [6.65470513, 8.38299776, 8.19183607, 6.68122544, 6.45556829],\n",
       "       [0.20694656, 7.01336007, 7.10619442, 2.03217775, 0.76564949],\n",
       "       [4.42763528, 9.65737373, 1.16510109, 8.28479011, 0.43864761],\n",
       "       [5.04203058, 9.67630245, 0.13663976, 4.98760389, 6.62731337]])"
      ]
     },
     "execution_count": 38,
     "metadata": {},
     "output_type": "execute_result"
    }
   ],
   "source": [
    "reals = np.random.random_sample((7,5))* 10\n",
    "reals"
   ]
  },
  {
   "cell_type": "markdown",
   "metadata": {},
   "source": [
    "Output the top-left subarray of ``reals`` of dimension 2x3. "
   ]
  },
  {
   "cell_type": "code",
   "execution_count": 66,
   "metadata": {},
   "outputs": [
    {
     "data": {
      "text/plain": [
       "array([[1.47829478, 5.14727424, 0.18671385],\n",
       "       [1.33419374, 4.0632702 , 9.5884517 ]])"
      ]
     },
     "execution_count": 66,
     "metadata": {},
     "output_type": "execute_result"
    }
   ],
   "source": [
    "reals[:-5,:-2]"
   ]
  },
  {
   "cell_type": "markdown",
   "metadata": {},
   "source": [
    "Output the following statistics about ``reals`` (each can be accomplished with a single statement - no loops):\n",
    "1. Sum of all values.\n",
    "2. Column sums (this should output 5 values)\n",
    "3. Row sums (output 7 values)\n",
    "4. Sum of second row.  "
   ]
  },
  {
   "cell_type": "code",
   "execution_count": 73,
   "metadata": {},
   "outputs": [
    {
     "name": "stdout",
     "output_type": "stream",
     "text": [
      "162.88324247115807 [21.35727631 52.68894438 30.71380459 33.4458401  24.6773771 ] [10.84535115 22.48565272 25.61813974 36.36633269 17.12432829 23.97354782\n",
      " 26.46989005] 22.485652722970915\n"
     ]
    }
   ],
   "source": [
    "print(np.sum(reals), reals.sum(axis=0), reals.sum(axis=1), np.sum(reals[1:-5]))"
   ]
  },
  {
   "cell_type": "markdown",
   "metadata": {},
   "source": [
    "## Exercise 3\n",
    "Create two 1D arrays ``x`` and ``y``, each with 50 randomly generated floats.  The range of values for ``x`` should be 0-10, and for ``y`` 0-20.  Create a scatter plot from these arrays.  \n"
   ]
  },
  {
   "cell_type": "code",
   "execution_count": 62,
   "metadata": {},
   "outputs": [
    {
     "data": {
      "image/png": "[encoded data removed]",
      "text/plain": [
       "<Figure size 432x288 with 1 Axes>"
      ]
     },
     "metadata": {},
     "output_type": "display_data"
    }
   ],
   "source": [
    "import matplotlib.pyplot as plt\n",
    "x = np.array([-10*np.random.random_sample(50)])\n",
    "y = np.array([-20*np.random.random_sample(50)])\n",
    "colors = (0,0,0)\n",
    "area = np.pi*3\n",
    "plt.scatter(x, y, s=area, c=colors, alpha=0.5)\n",
    "plt.title('Scatter Plot Practice')\n",
    "plt.xlabel('x')\n",
    "plt.ylabel('y')\n",
    "plt.show()"
   ]
  }
 ],
 "metadata": {
  "kernelspec": {
   "display_name": "Python 3",
   "language": "python",
   "name": "python3"
  },
  "language_info": {
   "codemirror_mode": {
    "name": "ipython",
    "version": 3
   },
   "file_extension": ".py",
   "mimetype": "text/x-python",
   "name": "python",
   "nbconvert_exporter": "python",
   "pygments_lexer": "ipython3",
   "version": "3.6.8"
  }
 },
 "nbformat": 4,
 "nbformat_minor": 2
}
