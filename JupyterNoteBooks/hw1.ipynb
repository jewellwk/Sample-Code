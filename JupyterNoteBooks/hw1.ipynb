{
 "cells": [
  {
   "cell_type": "markdown",
   "metadata": {},
   "source": [
    "# CSC477 -- Spring 2019\n",
    "# Homework 1\n",
    "\n",
    "### Due by 7am on Tuesday 02.12.  \n",
    "\n",
    "Download the [movies data set](https://gist.github.com/iantonios/7fcbc1ab915622a29304bf8ee3b8818a), and place it in the same folder as the notebook after uncompressing it.  \n",
    "\n",
    "Perform the operations listed below.  Before submitting, click *Run All* under the **Cell** menu option and be sure that each cell is producing the expected output.  Submit the notebook with the output embedded in the notebook below each cell.  \n",
    "\n",
    "## Submit [HERE](https://classroom.github.com/a/nsMuYnqB)\n",
    "\n",
    "---"
   ]
  },
  {
   "cell_type": "markdown",
   "metadata": {},
   "source": [
    "## Your name:"
   ]
  },
  {
   "cell_type": "code",
   "execution_count": 2,
   "metadata": {},
   "outputs": [],
   "source": [
    "# Jewell Wright"
   ]
  },
  {
   "cell_type": "markdown",
   "metadata": {},
   "source": [
    "**0. Load the file and output the top 5 rows.**"
   ]
  },
  {
   "cell_type": "code",
   "execution_count": 3,
   "metadata": {},
   "outputs": [
    {
     "data": {
      "text/html": [
       "<div>\n",
       "<style scoped>\n",
       "    .dataframe tbody tr th:only-of-type {\n",
       "        vertical-align: middle;\n",
       "    }\n",
       "\n",
       "    .dataframe tbody tr th {\n",
       "        vertical-align: top;\n",
       "    }\n",
       "\n",
       "    .dataframe thead th {\n",
       "        text-align: right;\n",
       "    }\n",
       "</style>\n",
       "<table border=\"1\" class=\"dataframe\">\n",
       "  <thead>\n",
       "    <tr style=\"text-align: right;\">\n",
       "      <th></th>\n",
       "      <th>director_name</th>\n",
       "      <th>duration</th>\n",
       "      <th>director_facebook_likes</th>\n",
       "      <th>actor_1_facebook_likes</th>\n",
       "      <th>gross</th>\n",
       "      <th>genres</th>\n",
       "      <th>actor_1_name</th>\n",
       "      <th>movie_title</th>\n",
       "      <th>facenumber_in_poster</th>\n",
       "      <th>plot_keywords</th>\n",
       "      <th>language</th>\n",
       "      <th>content_rating</th>\n",
       "      <th>budget</th>\n",
       "      <th>title_year</th>\n",
       "      <th>imdb_score</th>\n",
       "      <th>movie_facebook_likes</th>\n",
       "    </tr>\n",
       "  </thead>\n",
       "  <tbody>\n",
       "    <tr>\n",
       "      <th>0</th>\n",
       "      <td>James Cameron</td>\n",
       "      <td>178.0</td>\n",
       "      <td>0.0</td>\n",
       "      <td>1000.0</td>\n",
       "      <td>760505847.0</td>\n",
       "      <td>Action|Adventure|Fantasy|Sci-Fi</td>\n",
       "      <td>CCH Pounder</td>\n",
       "      <td>Avatar</td>\n",
       "      <td>0.0</td>\n",
       "      <td>avatar|future|marine|native|paraplegic</td>\n",
       "      <td>English</td>\n",
       "      <td>PG-13</td>\n",
       "      <td>237000000.0</td>\n",
       "      <td>2009.0</td>\n",
       "      <td>7.9</td>\n",
       "      <td>33000</td>\n",
       "    </tr>\n",
       "    <tr>\n",
       "      <th>1</th>\n",
       "      <td>Gore Verbinski</td>\n",
       "      <td>169.0</td>\n",
       "      <td>563.0</td>\n",
       "      <td>40000.0</td>\n",
       "      <td>309404152.0</td>\n",
       "      <td>Action|Adventure|Fantasy</td>\n",
       "      <td>Johnny Depp</td>\n",
       "      <td>Pirates of the Caribbean: At World's End</td>\n",
       "      <td>0.0</td>\n",
       "      <td>goddess|marriage ceremony|marriage proposal|pi...</td>\n",
       "      <td>English</td>\n",
       "      <td>PG-13</td>\n",
       "      <td>300000000.0</td>\n",
       "      <td>2007.0</td>\n",
       "      <td>7.1</td>\n",
       "      <td>0</td>\n",
       "    </tr>\n",
       "    <tr>\n",
       "      <th>2</th>\n",
       "      <td>Sam Mendes</td>\n",
       "      <td>148.0</td>\n",
       "      <td>0.0</td>\n",
       "      <td>11000.0</td>\n",
       "      <td>200074175.0</td>\n",
       "      <td>Action|Adventure|Thriller</td>\n",
       "      <td>Christoph Waltz</td>\n",
       "      <td>Spectre</td>\n",
       "      <td>1.0</td>\n",
       "      <td>bomb|espionage|sequel|spy|terrorist</td>\n",
       "      <td>English</td>\n",
       "      <td>PG-13</td>\n",
       "      <td>245000000.0</td>\n",
       "      <td>2015.0</td>\n",
       "      <td>6.8</td>\n",
       "      <td>85000</td>\n",
       "    </tr>\n",
       "    <tr>\n",
       "      <th>3</th>\n",
       "      <td>Christopher Nolan</td>\n",
       "      <td>164.0</td>\n",
       "      <td>22000.0</td>\n",
       "      <td>27000.0</td>\n",
       "      <td>448130642.0</td>\n",
       "      <td>Action|Thriller</td>\n",
       "      <td>Tom Hardy</td>\n",
       "      <td>The Dark Knight Rises</td>\n",
       "      <td>0.0</td>\n",
       "      <td>deception|imprisonment|lawlessness|police offi...</td>\n",
       "      <td>English</td>\n",
       "      <td>PG-13</td>\n",
       "      <td>250000000.0</td>\n",
       "      <td>2012.0</td>\n",
       "      <td>8.5</td>\n",
       "      <td>164000</td>\n",
       "    </tr>\n",
       "    <tr>\n",
       "      <th>4</th>\n",
       "      <td>Doug Walker</td>\n",
       "      <td>NaN</td>\n",
       "      <td>131.0</td>\n",
       "      <td>131.0</td>\n",
       "      <td>NaN</td>\n",
       "      <td>Documentary</td>\n",
       "      <td>Doug Walker</td>\n",
       "      <td>Star Wars: Episode VII - The Force Awakens</td>\n",
       "      <td>0.0</td>\n",
       "      <td>NaN</td>\n",
       "      <td>NaN</td>\n",
       "      <td>NaN</td>\n",
       "      <td>NaN</td>\n",
       "      <td>NaN</td>\n",
       "      <td>7.1</td>\n",
       "      <td>0</td>\n",
       "    </tr>\n",
       "  </tbody>\n",
       "</table>\n",
       "</div>"
      ],
      "text/plain": [
       "       director_name  duration  director_facebook_likes  \\\n",
       "0      James Cameron     178.0                      0.0   \n",
       "1     Gore Verbinski     169.0                    563.0   \n",
       "2         Sam Mendes     148.0                      0.0   \n",
       "3  Christopher Nolan     164.0                  22000.0   \n",
       "4        Doug Walker       NaN                    131.0   \n",
       "\n",
       "   actor_1_facebook_likes        gross                           genres  \\\n",
       "0                  1000.0  760505847.0  Action|Adventure|Fantasy|Sci-Fi   \n",
       "1                 40000.0  309404152.0         Action|Adventure|Fantasy   \n",
       "2                 11000.0  200074175.0        Action|Adventure|Thriller   \n",
       "3                 27000.0  448130642.0                  Action|Thriller   \n",
       "4                   131.0          NaN                      Documentary   \n",
       "\n",
       "      actor_1_name                                 movie_title  \\\n",
       "0      CCH Pounder                                      Avatar   \n",
       "1      Johnny Depp    Pirates of the Caribbean: At World's End   \n",
       "2  Christoph Waltz                                     Spectre   \n",
       "3        Tom Hardy                       The Dark Knight Rises   \n",
       "4      Doug Walker  Star Wars: Episode VII - The Force Awakens   \n",
       "\n",
       "   facenumber_in_poster                                      plot_keywords  \\\n",
       "0                   0.0             avatar|future|marine|native|paraplegic   \n",
       "1                   0.0  goddess|marriage ceremony|marriage proposal|pi...   \n",
       "2                   1.0                bomb|espionage|sequel|spy|terrorist   \n",
       "3                   0.0  deception|imprisonment|lawlessness|police offi...   \n",
       "4                   0.0                                                NaN   \n",
       "\n",
       "  language content_rating       budget  title_year  imdb_score  \\\n",
       "0  English          PG-13  237000000.0      2009.0         7.9   \n",
       "1  English          PG-13  300000000.0      2007.0         7.1   \n",
       "2  English          PG-13  245000000.0      2015.0         6.8   \n",
       "3  English          PG-13  250000000.0      2012.0         8.5   \n",
       "4      NaN            NaN          NaN         NaN         7.1   \n",
       "\n",
       "   movie_facebook_likes  \n",
       "0                 33000  \n",
       "1                     0  \n",
       "2                 85000  \n",
       "3                164000  \n",
       "4                     0  "
      ]
     },
     "execution_count": 3,
     "metadata": {},
     "output_type": "execute_result"
    }
   ],
   "source": [
    "import pandas as pd\n",
    "movies = pd.read_csv('movie.csv')\n",
    "#I'm aware that the head deafualts to 5 I wrote a number to demonstrate that I understand how the function is used.\n",
    "movies.head(5)"
   ]
  },
  {
   "cell_type": "markdown",
   "metadata": {},
   "source": [
    "**1. Output the movies that James Cameron directed.**"
   ]
  },
  {
   "cell_type": "code",
   "execution_count": 4,
   "metadata": {},
   "outputs": [
    {
     "data": {
      "text/html": [
       "<div>\n",
       "<style scoped>\n",
       "    .dataframe tbody tr th:only-of-type {\n",
       "        vertical-align: middle;\n",
       "    }\n",
       "\n",
       "    .dataframe tbody tr th {\n",
       "        vertical-align: top;\n",
       "    }\n",
       "\n",
       "    .dataframe thead th {\n",
       "        text-align: right;\n",
       "    }\n",
       "</style>\n",
       "<table border=\"1\" class=\"dataframe\">\n",
       "  <thead>\n",
       "    <tr style=\"text-align: right;\">\n",
       "      <th></th>\n",
       "      <th>director_name</th>\n",
       "      <th>duration</th>\n",
       "      <th>director_facebook_likes</th>\n",
       "      <th>actor_1_facebook_likes</th>\n",
       "      <th>gross</th>\n",
       "      <th>genres</th>\n",
       "      <th>actor_1_name</th>\n",
       "      <th>movie_title</th>\n",
       "      <th>facenumber_in_poster</th>\n",
       "      <th>plot_keywords</th>\n",
       "      <th>language</th>\n",
       "      <th>content_rating</th>\n",
       "      <th>budget</th>\n",
       "      <th>title_year</th>\n",
       "      <th>imdb_score</th>\n",
       "      <th>movie_facebook_likes</th>\n",
       "    </tr>\n",
       "  </thead>\n",
       "  <tbody>\n",
       "    <tr>\n",
       "      <th>0</th>\n",
       "      <td>James Cameron</td>\n",
       "      <td>178.0</td>\n",
       "      <td>0.0</td>\n",
       "      <td>1000.0</td>\n",
       "      <td>760505847.0</td>\n",
       "      <td>Action|Adventure|Fantasy|Sci-Fi</td>\n",
       "      <td>CCH Pounder</td>\n",
       "      <td>Avatar</td>\n",
       "      <td>0.0</td>\n",
       "      <td>avatar|future|marine|native|paraplegic</td>\n",
       "      <td>English</td>\n",
       "      <td>PG-13</td>\n",
       "      <td>237000000.0</td>\n",
       "      <td>2009.0</td>\n",
       "      <td>7.9</td>\n",
       "      <td>33000</td>\n",
       "    </tr>\n",
       "    <tr>\n",
       "      <th>26</th>\n",
       "      <td>James Cameron</td>\n",
       "      <td>194.0</td>\n",
       "      <td>0.0</td>\n",
       "      <td>29000.0</td>\n",
       "      <td>658672302.0</td>\n",
       "      <td>Drama|Romance</td>\n",
       "      <td>Leonardo DiCaprio</td>\n",
       "      <td>Titanic</td>\n",
       "      <td>0.0</td>\n",
       "      <td>artist|love|ship|titanic|wet</td>\n",
       "      <td>English</td>\n",
       "      <td>PG-13</td>\n",
       "      <td>200000000.0</td>\n",
       "      <td>1997.0</td>\n",
       "      <td>7.7</td>\n",
       "      <td>26000</td>\n",
       "    </tr>\n",
       "    <tr>\n",
       "      <th>285</th>\n",
       "      <td>James Cameron</td>\n",
       "      <td>153.0</td>\n",
       "      <td>0.0</td>\n",
       "      <td>780.0</td>\n",
       "      <td>204843350.0</td>\n",
       "      <td>Action|Sci-Fi</td>\n",
       "      <td>Joe Morton</td>\n",
       "      <td>Terminator 2: Judgment Day</td>\n",
       "      <td>0.0</td>\n",
       "      <td>future|liquid metal|multiple cameos|sexy woman...</td>\n",
       "      <td>English</td>\n",
       "      <td>R</td>\n",
       "      <td>102000000.0</td>\n",
       "      <td>1991.0</td>\n",
       "      <td>8.5</td>\n",
       "      <td>13000</td>\n",
       "    </tr>\n",
       "    <tr>\n",
       "      <th>288</th>\n",
       "      <td>James Cameron</td>\n",
       "      <td>141.0</td>\n",
       "      <td>0.0</td>\n",
       "      <td>2000.0</td>\n",
       "      <td>146282411.0</td>\n",
       "      <td>Action|Comedy|Thriller</td>\n",
       "      <td>Jamie Lee Curtis</td>\n",
       "      <td>True Lies</td>\n",
       "      <td>0.0</td>\n",
       "      <td>espionage|secret agent|secret mission|spy|spy ...</td>\n",
       "      <td>English</td>\n",
       "      <td>R</td>\n",
       "      <td>115000000.0</td>\n",
       "      <td>1994.0</td>\n",
       "      <td>7.2</td>\n",
       "      <td>0</td>\n",
       "    </tr>\n",
       "    <tr>\n",
       "      <th>599</th>\n",
       "      <td>James Cameron</td>\n",
       "      <td>171.0</td>\n",
       "      <td>0.0</td>\n",
       "      <td>2000.0</td>\n",
       "      <td>54222000.0</td>\n",
       "      <td>Adventure|Drama|Sci-Fi|Thriller</td>\n",
       "      <td>Michael Biehn</td>\n",
       "      <td>The Abyss</td>\n",
       "      <td>0.0</td>\n",
       "      <td>alien|estranged couple|ocean|submarine|underwater</td>\n",
       "      <td>English</td>\n",
       "      <td>PG-13</td>\n",
       "      <td>69500000.0</td>\n",
       "      <td>1989.0</td>\n",
       "      <td>7.6</td>\n",
       "      <td>0</td>\n",
       "    </tr>\n",
       "    <tr>\n",
       "      <th>2455</th>\n",
       "      <td>James Cameron</td>\n",
       "      <td>154.0</td>\n",
       "      <td>0.0</td>\n",
       "      <td>2000.0</td>\n",
       "      <td>85200000.0</td>\n",
       "      <td>Action|Adventure|Sci-Fi</td>\n",
       "      <td>Michael Biehn</td>\n",
       "      <td>Aliens</td>\n",
       "      <td>1.0</td>\n",
       "      <td>alien|human versus alien|monster|rescue missio...</td>\n",
       "      <td>English</td>\n",
       "      <td>R</td>\n",
       "      <td>18500000.0</td>\n",
       "      <td>1986.0</td>\n",
       "      <td>8.4</td>\n",
       "      <td>18000</td>\n",
       "    </tr>\n",
       "    <tr>\n",
       "      <th>3508</th>\n",
       "      <td>James Cameron</td>\n",
       "      <td>107.0</td>\n",
       "      <td>0.0</td>\n",
       "      <td>2000.0</td>\n",
       "      <td>38400000.0</td>\n",
       "      <td>Action|Sci-Fi</td>\n",
       "      <td>Michael Biehn</td>\n",
       "      <td>The Terminator</td>\n",
       "      <td>1.0</td>\n",
       "      <td>cyborg|future war|robot|shootout in a police s...</td>\n",
       "      <td>English</td>\n",
       "      <td>R</td>\n",
       "      <td>6500000.0</td>\n",
       "      <td>1984.0</td>\n",
       "      <td>8.1</td>\n",
       "      <td>13000</td>\n",
       "    </tr>\n",
       "  </tbody>\n",
       "</table>\n",
       "</div>"
      ],
      "text/plain": [
       "      director_name  duration  director_facebook_likes  \\\n",
       "0     James Cameron     178.0                      0.0   \n",
       "26    James Cameron     194.0                      0.0   \n",
       "285   James Cameron     153.0                      0.0   \n",
       "288   James Cameron     141.0                      0.0   \n",
       "599   James Cameron     171.0                      0.0   \n",
       "2455  James Cameron     154.0                      0.0   \n",
       "3508  James Cameron     107.0                      0.0   \n",
       "\n",
       "      actor_1_facebook_likes        gross                           genres  \\\n",
       "0                     1000.0  760505847.0  Action|Adventure|Fantasy|Sci-Fi   \n",
       "26                   29000.0  658672302.0                    Drama|Romance   \n",
       "285                    780.0  204843350.0                    Action|Sci-Fi   \n",
       "288                   2000.0  146282411.0           Action|Comedy|Thriller   \n",
       "599                   2000.0   54222000.0  Adventure|Drama|Sci-Fi|Thriller   \n",
       "2455                  2000.0   85200000.0          Action|Adventure|Sci-Fi   \n",
       "3508                  2000.0   38400000.0                    Action|Sci-Fi   \n",
       "\n",
       "           actor_1_name                 movie_title  facenumber_in_poster  \\\n",
       "0           CCH Pounder                      Avatar                   0.0   \n",
       "26    Leonardo DiCaprio                     Titanic                   0.0   \n",
       "285          Joe Morton  Terminator 2: Judgment Day                   0.0   \n",
       "288    Jamie Lee Curtis                   True Lies                   0.0   \n",
       "599       Michael Biehn                   The Abyss                   0.0   \n",
       "2455      Michael Biehn                      Aliens                   1.0   \n",
       "3508      Michael Biehn              The Terminator                   1.0   \n",
       "\n",
       "                                          plot_keywords language  \\\n",
       "0                avatar|future|marine|native|paraplegic  English   \n",
       "26                         artist|love|ship|titanic|wet  English   \n",
       "285   future|liquid metal|multiple cameos|sexy woman...  English   \n",
       "288   espionage|secret agent|secret mission|spy|spy ...  English   \n",
       "599   alien|estranged couple|ocean|submarine|underwater  English   \n",
       "2455  alien|human versus alien|monster|rescue missio...  English   \n",
       "3508  cyborg|future war|robot|shootout in a police s...  English   \n",
       "\n",
       "     content_rating       budget  title_year  imdb_score  movie_facebook_likes  \n",
       "0             PG-13  237000000.0      2009.0         7.9                 33000  \n",
       "26            PG-13  200000000.0      1997.0         7.7                 26000  \n",
       "285               R  102000000.0      1991.0         8.5                 13000  \n",
       "288               R  115000000.0      1994.0         7.2                     0  \n",
       "599           PG-13   69500000.0      1989.0         7.6                     0  \n",
       "2455              R   18500000.0      1986.0         8.4                 18000  \n",
       "3508              R    6500000.0      1984.0         8.1                 13000  "
      ]
     },
     "execution_count": 4,
     "metadata": {},
     "output_type": "execute_result"
    }
   ],
   "source": [
    "df = pd.DataFrame(movies)\n",
    "df.loc[df.director_name == 'James Cameron']"
   ]
  },
  {
   "cell_type": "markdown",
   "metadata": {},
   "source": [
    "**2. Output the name of the director with the most films.**"
   ]
  },
  {
   "cell_type": "code",
   "execution_count": 5,
   "metadata": {},
   "outputs": [
    {
     "data": {
      "text/plain": [
       "director_name\n",
       "Steven Spielberg    26\n",
       "Name: movie_title, dtype: int64"
      ]
     },
     "execution_count": 5,
     "metadata": {},
     "output_type": "execute_result"
    }
   ],
   "source": [
    "#size and count will output the same value here,\n",
    "#but it makes more sense to use the count function,\n",
    "#because it doesn't count the NaN values\n",
    "\n",
    "df.groupby(df.director_name).movie_title.count().nlargest(1)"
   ]
  },
  {
   "cell_type": "markdown",
   "metadata": {},
   "source": [
    "**3. Generate a histogram of the movie durations.  Label the axes.**"
   ]
  },
  {
   "cell_type": "code",
   "execution_count": 6,
   "metadata": {},
   "outputs": [
    {
     "data": {
      "image/png": "[encoded data removed]",
      "text/plain": [
       "<Figure size 432x288 with 1 Axes>"
      ]
     },
     "metadata": {},
     "output_type": "display_data"
    }
   ],
   "source": [
    "data = df.duration.plot.hist()\n",
    "data.set_title(\"Durations of Movies\")\n",
    "data.set_xlabel(\"Time (min)\")\n",
    "data.set_fc(\"black\")"
   ]
  },
  {
   "cell_type": "markdown",
   "metadata": {},
   "source": [
    "**4. Output the following statistics about movie durations: mean, standard deviation, 5% and 95% percentile.**"
   ]
  },
  {
   "cell_type": "code",
   "execution_count": 7,
   "metadata": {},
   "outputs": [
    {
     "name": "stdout",
     "output_type": "stream",
     "text": [
      "Mean: 107.0907977963681 \n",
      "Standard Deviation: 25.28601531289993 \n",
      "5th-Percentile: 81.0 \n",
      "95th-Percentile: 146.0\n"
     ]
    }
   ],
   "source": [
    "#why not use describe here?\n",
    "print(\"Mean:\", df.duration.mean(),\n",
    "      \"\\nStandard Deviation:\", df.duration.std(), \n",
    "      \"\\n5th-Percentile:\", df.duration.quantile(0.05), \n",
    "      \"\\n95th-Percentile:\", df.duration.quantile(0.95))"
   ]
  },
  {
   "cell_type": "markdown",
   "metadata": {},
   "source": [
    "**5. Output the title and director (but nothing else) of the top 10 grossing films.**"
   ]
  },
  {
   "cell_type": "code",
   "execution_count": 8,
   "metadata": {},
   "outputs": [
    {
     "data": {
      "text/html": [
       "<div>\n",
       "<style scoped>\n",
       "    .dataframe tbody tr th:only-of-type {\n",
       "        vertical-align: middle;\n",
       "    }\n",
       "\n",
       "    .dataframe tbody tr th {\n",
       "        vertical-align: top;\n",
       "    }\n",
       "\n",
       "    .dataframe thead th {\n",
       "        text-align: right;\n",
       "    }\n",
       "</style>\n",
       "<table border=\"1\" class=\"dataframe\">\n",
       "  <thead>\n",
       "    <tr style=\"text-align: right;\">\n",
       "      <th></th>\n",
       "      <th>movie_title</th>\n",
       "      <th>director_name</th>\n",
       "    </tr>\n",
       "  </thead>\n",
       "  <tbody>\n",
       "    <tr>\n",
       "      <th>0</th>\n",
       "      <td>Avatar</td>\n",
       "      <td>James Cameron</td>\n",
       "    </tr>\n",
       "    <tr>\n",
       "      <th>26</th>\n",
       "      <td>Titanic</td>\n",
       "      <td>James Cameron</td>\n",
       "    </tr>\n",
       "    <tr>\n",
       "      <th>29</th>\n",
       "      <td>Jurassic World</td>\n",
       "      <td>Colin Trevorrow</td>\n",
       "    </tr>\n",
       "    <tr>\n",
       "      <th>17</th>\n",
       "      <td>The Avengers</td>\n",
       "      <td>Joss Whedon</td>\n",
       "    </tr>\n",
       "    <tr>\n",
       "      <th>66</th>\n",
       "      <td>The Dark Knight</td>\n",
       "      <td>Christopher Nolan</td>\n",
       "    </tr>\n",
       "    <tr>\n",
       "      <th>237</th>\n",
       "      <td>Star Wars: Episode I - The Phantom Menace</td>\n",
       "      <td>George Lucas</td>\n",
       "    </tr>\n",
       "    <tr>\n",
       "      <th>2973</th>\n",
       "      <td>Star Wars: Episode IV - A New Hope</td>\n",
       "      <td>George Lucas</td>\n",
       "    </tr>\n",
       "    <tr>\n",
       "      <th>8</th>\n",
       "      <td>Avengers: Age of Ultron</td>\n",
       "      <td>Joss Whedon</td>\n",
       "    </tr>\n",
       "    <tr>\n",
       "      <th>3</th>\n",
       "      <td>The Dark Knight Rises</td>\n",
       "      <td>Christopher Nolan</td>\n",
       "    </tr>\n",
       "    <tr>\n",
       "      <th>576</th>\n",
       "      <td>Shrek 2</td>\n",
       "      <td>Andrew Adamson</td>\n",
       "    </tr>\n",
       "  </tbody>\n",
       "</table>\n",
       "</div>"
      ],
      "text/plain": [
       "                                    movie_title      director_name\n",
       "0                                        Avatar      James Cameron\n",
       "26                                      Titanic      James Cameron\n",
       "29                               Jurassic World    Colin Trevorrow\n",
       "17                                 The Avengers        Joss Whedon\n",
       "66                              The Dark Knight  Christopher Nolan\n",
       "237   Star Wars: Episode I - The Phantom Menace       George Lucas\n",
       "2973         Star Wars: Episode IV - A New Hope       George Lucas\n",
       "8                       Avengers: Age of Ultron        Joss Whedon\n",
       "3                         The Dark Knight Rises  Christopher Nolan\n",
       "576                                     Shrek 2     Andrew Adamson"
      ]
     },
     "execution_count": 8,
     "metadata": {},
     "output_type": "execute_result"
    }
   ],
   "source": [
    "top_ten = df[['movie_title','director_name','gross']].nlargest(10, 'gross')\n",
    "top_ten[['movie_title', 'director_name']]"
   ]
  },
  {
   "cell_type": "markdown",
   "metadata": {},
   "source": [
    "**6. Create a new column of the ratio of gross revenue to budget, and output the 10 movies with the highest ratio.**"
   ]
  },
  {
   "cell_type": "code",
   "execution_count": 9,
   "metadata": {},
   "outputs": [
    {
     "data": {
      "text/html": [
       "<div>\n",
       "<style scoped>\n",
       "    .dataframe tbody tr th:only-of-type {\n",
       "        vertical-align: middle;\n",
       "    }\n",
       "\n",
       "    .dataframe tbody tr th {\n",
       "        vertical-align: top;\n",
       "    }\n",
       "\n",
       "    .dataframe thead th {\n",
       "        text-align: right;\n",
       "    }\n",
       "</style>\n",
       "<table border=\"1\" class=\"dataframe\">\n",
       "  <thead>\n",
       "    <tr style=\"text-align: right;\">\n",
       "      <th></th>\n",
       "      <th>movie_title</th>\n",
       "      <th>director_name</th>\n",
       "      <th>ratio</th>\n",
       "    </tr>\n",
       "  </thead>\n",
       "  <tbody>\n",
       "    <tr>\n",
       "      <th>4678</th>\n",
       "      <td>Paranormal Activity</td>\n",
       "      <td>Oren Peli</td>\n",
       "      <td>7194.485533</td>\n",
       "    </tr>\n",
       "    <tr>\n",
       "      <th>4684</th>\n",
       "      <td>Tarnation</td>\n",
       "      <td>Jonathan Caouette</td>\n",
       "      <td>2715.660550</td>\n",
       "    </tr>\n",
       "    <tr>\n",
       "      <th>4595</th>\n",
       "      <td>The Blair Witch Project</td>\n",
       "      <td>Daniel Myrick</td>\n",
       "      <td>2342.168567</td>\n",
       "    </tr>\n",
       "    <tr>\n",
       "      <th>4858</th>\n",
       "      <td>The Brothers McMullen</td>\n",
       "      <td>Edward Burns</td>\n",
       "      <td>409.864000</td>\n",
       "    </tr>\n",
       "    <tr>\n",
       "      <th>3221</th>\n",
       "      <td>The Texas Chain Saw Massacre</td>\n",
       "      <td>Tobe Hooper</td>\n",
       "      <td>369.427285</td>\n",
       "    </tr>\n",
       "    <tr>\n",
       "      <th>4908</th>\n",
       "      <td>El Mariachi</td>\n",
       "      <td>Robert Rodriguez</td>\n",
       "      <td>291.560000</td>\n",
       "    </tr>\n",
       "    <tr>\n",
       "      <th>4831</th>\n",
       "      <td>The Gallows</td>\n",
       "      <td>Travis Cluff</td>\n",
       "      <td>227.578190</td>\n",
       "    </tr>\n",
       "    <tr>\n",
       "      <th>4851</th>\n",
       "      <td>Super Size Me</td>\n",
       "      <td>Morgan Spurlock</td>\n",
       "      <td>177.374892</td>\n",
       "    </tr>\n",
       "    <tr>\n",
       "      <th>2461</th>\n",
       "      <td>Halloween</td>\n",
       "      <td>John Carpenter</td>\n",
       "      <td>156.666667</td>\n",
       "    </tr>\n",
       "    <tr>\n",
       "      <th>4565</th>\n",
       "      <td>American Graffiti</td>\n",
       "      <td>George Lucas</td>\n",
       "      <td>148.005148</td>\n",
       "    </tr>\n",
       "  </tbody>\n",
       "</table>\n",
       "</div>"
      ],
      "text/plain": [
       "                       movie_title      director_name        ratio\n",
       "4678           Paranormal Activity          Oren Peli  7194.485533\n",
       "4684                     Tarnation  Jonathan Caouette  2715.660550\n",
       "4595       The Blair Witch Project      Daniel Myrick  2342.168567\n",
       "4858         The Brothers McMullen       Edward Burns   409.864000\n",
       "3221  The Texas Chain Saw Massacre        Tobe Hooper   369.427285\n",
       "4908                   El Mariachi   Robert Rodriguez   291.560000\n",
       "4831                   The Gallows       Travis Cluff   227.578190\n",
       "4851                 Super Size Me    Morgan Spurlock   177.374892\n",
       "2461                     Halloween     John Carpenter   156.666667\n",
       "4565             American Graffiti       George Lucas   148.005148"
      ]
     },
     "execution_count": 9,
     "metadata": {},
     "output_type": "execute_result"
    }
   ],
   "source": [
    "top_ratio = df.assign(ratio=lambda df: df.gross/df.budget)\n",
    "top_ratio[['movie_title', 'director_name', 'ratio']].nlargest(10, 'ratio')"
   ]
  },
  {
   "cell_type": "markdown",
   "metadata": {},
   "source": [
    "**7. Since each column in the DataFrame can be thought of as a random variable, we can compute the correlation coefficient between pairs of variables to understand the relationship between them.  Compute and output the correlation between gross and each of the following variables: 1) director number of likes, 2) budget, 3) actor 1 facebook likes, 4) movie duration, and 5) imdb score.**"
   ]
  },
  {
   "cell_type": "code",
   "execution_count": 10,
   "metadata": {},
   "outputs": [
    {
     "name": "stdout",
     "output_type": "stream",
     "text": [
      "Correlation of gross between: \n",
      "Director Facebook Likes = 0.14354988168495345 \n",
      "Budget = 0.22318411269080002 \n",
      "Actor Facebook Likes = 0.14975961873009502 \n",
      "Duration = 0.2434361605180932 \n",
      "Imdb Score = 0.1999136172169078\n"
     ]
    }
   ],
   "source": [
    "print(\"Correlation of gross between:\", \n",
    "\"\\nDirector Facebook Likes =\", df.gross.corr(df.director_facebook_likes),\n",
    "\"\\nBudget =\", df.gross.corr(df.budget),\n",
    "\"\\nActor Facebook Likes =\", df.gross.corr(df.actor_1_facebook_likes),\n",
    "\"\\nDuration =\", df.gross.corr(df.duration),\n",
    "\"\\nImdb Score =\", df.gross.corr(df.imdb_score))"
   ]
  },
  {
   "cell_type": "markdown",
   "metadata": {},
   "source": [
    "**8. Generate a bar graph of the movie genres.  Use the first string in the ``genres`` column as the movie genre.  For instance, if a movie is classified as ``Drama|Romance``, use ``Drama`` as the genre.  The bar graph should show the count of films in each genre.**"
   ]
  },
  {
   "cell_type": "code",
   "execution_count": 11,
   "metadata": {},
   "outputs": [
    {
     "data": {
      "text/plain": [
       "Text(0,0.5,'Count')"
      ]
     },
     "execution_count": 11,
     "metadata": {},
     "output_type": "execute_result"
    },
    {
     "data": {
      "image/png": "[encoded data removed]",
      "text/plain": [
       "<Figure size 432x288 with 1 Axes>"
      ]
     },
     "metadata": {},
     "output_type": "display_data"
    }
   ],
   "source": [
    "df.loc[:, 'main_genre'] = df.genres.map(lambda x: x.split(\"|\")[0])\n",
    "genre_graph = df.groupby(df.main_genre).movie_title.count().plot.bar()\n",
    "genre_graph.set_title(\"Number of Movies per Genre\")\n",
    "genre_graph.set_xlabel(\"Genres\")\n",
    "genre_graph.set_ylabel(\"Count\")"
   ]
  },
  {
   "cell_type": "markdown",
   "metadata": {},
   "source": [
    "**9. Explore whether movie durations are changing over the years (e.g. Are movies in the 1950's longer on average than in the 2000's?).  Visualize your answer as you deem appropriate.**"
   ]
  },
  {
   "cell_type": "code",
   "execution_count": 14,
   "metadata": {},
   "outputs": [
    {
     "name": "stdout",
     "output_type": "stream",
     "text": [
      "The graph depicted below shows the year vs duration of movies. \n",
      "Blue represents the 2000's, while Green is the 1950's. \n",
      "If we stop to focus on the 1950's (the green), then it's clear that there was a lot of variance in the duration of movies. As more movies were released after the 1980's, the data points become more concentrated in a particular range. \n",
      "Above all, if we look at the 2000's (the blue), although there are less years represented, the duration of movies hit a balancing point and average 113.34916864608076 minutes. While the 1950's averages 106.14703353396389 minutes. \n",
      "To conclude, regardless of year and averages, it's clear to see that most points fall within a range of (75-150). I'd like to think that corresponds to a person's attention span. For example, college courses are typically 75 min long with a once a week course being 150 min.\n"
     ]
    },
    {
     "data": {
      "image/png": "[encoded data removed]",
      "text/plain": [
       "<Figure size 432x288 with 1 Axes>"
      ]
     },
     "metadata": {},
     "output_type": "display_data"
    }
   ],
   "source": [
    "import seaborn as sns; sns.set(color_codes=True)\n",
    "adf = df.loc[(df.title_year >= 1950.0) & (df.title_year < 2000.0)]\n",
    "bdf = df.loc[(df.title_year >= 2000.0)]\n",
    "a = adf.duration.mean()\n",
    "b = bdf.duration.mean()\n",
    "rnine = sns.regplot(x='title_year', y='duration', data=adf, color='Green')\n",
    "rtwo = sns.regplot(x='title_year', y='duration', data=bdf, color='Blue')\n",
    "rtwo.set_title(\"Movie Durations Throughout the Years\")\n",
    "rtwo.set_ylabel(\"Duration\")\n",
    "rtwo.set_xlabel(\"Year\")\n",
    "print(\"The graph depicted below shows the year vs duration of movies. \\nBlue represents the 2000's, while Green is the 1950's. \\nIf we stop to focus on the 1950's (the green), then it's clear that there was a lot of variance in the duration of movies. As more movies were released after the 1980's, the data points become more concentrated in a particular range. \\nAbove all, if we look at the 2000's (the blue), although there are less years represented, the duration of movies hit a balancing point and average\",a, \"minutes. While the 1950's averages\", b, \"minutes. \\nTo conclude, regardless of year and averages, it's clear to see that most points fall within a range of (75-150). I'd like to think that corresponds to a person's attention span. For example, college courses are typically 75 min long with a once a week course being 150 min.\")"
   ]
  }
 ],
 "metadata": {
  "kernelspec": {
   "display_name": "Python 3",
   "language": "python",
   "name": "python3"
  },
  "language_info": {
   "codemirror_mode": {
    "name": "ipython",
    "version": 3
   },
   "file_extension": ".py",
   "mimetype": "text/x-python",
   "name": "python",
   "nbconvert_exporter": "python",
   "pygments_lexer": "ipython3",
   "version": "3.6.8"
  }
 },
 "nbformat": 4,
 "nbformat_minor": 2
}
